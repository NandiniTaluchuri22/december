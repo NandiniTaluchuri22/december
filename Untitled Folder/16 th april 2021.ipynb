{
 "cells": [
  {
   "cell_type": "markdown",
   "metadata": {},
   "source": [
    "## loops"
   ]
  },
  {
   "cell_type": "markdown",
   "metadata": {},
   "source": [
    "## syntax for for\n",
    "### for i in range():  (integer)\n",
    "### for i in variable_name: (strings)\n"
   ]
  },
  {
   "cell_type": "code",
   "execution_count": 2,
   "metadata": {},
   "outputs": [
    {
     "name": "stdout",
     "output_type": "stream",
     "text": [
      "0\n",
      "1\n",
      "2\n",
      "3\n",
      "4\n",
      "5\n",
      "6\n",
      "7\n",
      "8\n",
      "9\n"
     ]
    }
   ],
   "source": [
    "# print integers\n",
    "for i in range(10):# single parameter\n",
    "    print(i)"
   ]
  },
  {
   "cell_type": "code",
   "execution_count": 3,
   "metadata": {},
   "outputs": [
    {
     "name": "stdout",
     "output_type": "stream",
     "text": [
      "1\n",
      "2\n",
      "3\n",
      "4\n",
      "5\n",
      "6\n",
      "7\n",
      "8\n",
      "9\n",
      "10\n"
     ]
    }
   ],
   "source": [
    "for i in range(1,11):# double parameter\n",
    "    print(i)"
   ]
  },
  {
   "cell_type": "code",
   "execution_count": 4,
   "metadata": {},
   "outputs": [
    {
     "name": "stdout",
     "output_type": "stream",
     "text": [
      "1\n",
      "3\n",
      "5\n",
      "7\n",
      "9\n"
     ]
    }
   ],
   "source": [
    "for i in range(1,11,2):# step count\n",
    "    print(i)"
   ]
  },
  {
   "cell_type": "code",
   "execution_count": 1,
   "metadata": {},
   "outputs": [
    {
     "name": "stdout",
     "output_type": "stream",
     "text": [
      "enter starting position1\n",
      "enter ending position10\n",
      "even numbers\n",
      "2\n",
      "4\n",
      "6\n",
      "8\n"
     ]
    }
   ],
   "source": [
    "n=int(input(\"enter starting position\"))\n",
    "a=int(input(\"enter ending position\"))\n",
    "print(\"even numbers\")\n",
    "for i in range(n,a):\n",
    "    if(i%2==0):\n",
    "        print(i)\n"
   ]
  },
  {
   "cell_type": "code",
   "execution_count": 3,
   "metadata": {},
   "outputs": [
    {
     "name": "stdout",
     "output_type": "stream",
     "text": [
      "enter starting position1\n",
      "enter ending position10\n",
      "even numbers\n",
      "1\n",
      "3\n",
      "5\n",
      "7\n",
      "9\n"
     ]
    }
   ],
   "source": [
    "n=int(input(\"enter starting position\"))\n",
    "a=int(input(\"enter ending position\"))\n",
    "print(\"even numbers\")"
   ]
  },
  {
   "cell_type": "code",
   "execution_count": 5,
   "metadata": {},
   "outputs": [
    {
     "name": "stdout",
     "output_type": "stream",
     "text": [
      "enter a number10\n",
      "natural numbers\n",
      "1\n",
      "2\n",
      "3\n",
      "4\n",
      "5\n",
      "6\n",
      "7\n",
      "8\n",
      "9\n",
      "10\n",
      "5.5\n"
     ]
    }
   ],
   "source": [
    "n=int(input(\"enter a number\"))\n",
    "sum1=0\n",
    "print(\"natural numbers\")\n",
    "for i in range(1,n+1):\n",
    "    print(i)\n",
    "    sum1=sum1+i\n",
    "average=(sum1/n)\n",
    "print(average)"
   ]
  },
  {
   "cell_type": "code",
   "execution_count": 21,
   "metadata": {},
   "outputs": [
    {
     "name": "stdout",
     "output_type": "stream",
     "text": [
      "enter starting position1\n",
      "enter ending position11\n",
      "2 4 6 8 10 \n",
      " 30\n",
      "6.0\n"
     ]
    }
   ],
   "source": [
    "a=int(input(\"enter starting position\"))\n",
    "n=int(input(\"enter ending position\"))\n",
    "sum1=0\n",
    "count=0\n",
    "for i in range(a,n):\n",
    "    if(i%2==0):\n",
    "        (print(i,end=\" \"))\n",
    "        sum1=sum1+i\n",
    "        count=count+1\n",
    "print(\"\\n\",sum1)\n",
    "average=(sum1/count)\n",
    "print(average)\n",
    "\n",
    "\n",
    "\n"
   ]
  },
  {
   "cell_type": "code",
   "execution_count": 29,
   "metadata": {},
   "outputs": [
    {
     "name": "stdout",
     "output_type": "stream",
     "text": [
      "enter starting position1\n",
      "enter ending position11\n",
      "1 2 3 4 5 6 7 8 9 10 55\n",
      "5.5\n"
     ]
    }
   ],
   "source": [
    "a=(input(\"enter starting position\"))\n",
    "n=(input(\"enter ending position\"))\n",
    "sum1=0\n",
    "count=0\n",
    "\n",
    "for i in range(int(a),int(n)):\n",
    "        (print(i,end=\" \"))\n",
    "        (sum1)=(sum1)+i\n",
    "        count=count+1\n",
    "print(int(sum1))\n",
    "average=((sum1/count))\n",
    "print(average)\n",
    "\n"
   ]
  },
  {
   "cell_type": "code",
   "execution_count": 31,
   "metadata": {},
   "outputs": [
    {
     "name": "stdout",
     "output_type": "stream",
     "text": [
      "enter a number5\n",
      "factorial of a number  120\n"
     ]
    }
   ],
   "source": [
    "# factorial of a number\n",
    "import math\n",
    "n=(int(input(\"enter a number\")))\n",
    "print(\"factorial of a number \",math.factorial(n))\n"
   ]
  },
  {
   "cell_type": "code",
   "execution_count": 32,
   "metadata": {},
   "outputs": [
    {
     "name": "stdout",
     "output_type": "stream",
     "text": [
      "enter a number5\n",
      "factorial of a number  120\n"
     ]
    }
   ],
   "source": [
    "n=(int(input(\"enter a number\")))\n",
    "fact=1\n",
    "for i in range(1,n+1):\n",
    "    fact=fact*i\n",
    "print(\"factorial of a number \",fact)\n"
   ]
  },
  {
   "cell_type": "code",
   "execution_count": 42,
   "metadata": {},
   "outputs": [
    {
     "name": "stdout",
     "output_type": "stream",
     "text": [
      "enter a number10\n",
      "not a prime\n"
     ]
    }
   ],
   "source": [
    "#prime number\n",
    "n=(int(input(\"enter a number\")))\n",
    "if(n==1 ):\n",
    "    print(\"composite \")\n",
    "elif(n>0):\n",
    "    for i in range(2,n):\n",
    "        if(n%i==0):\n",
    "            print(\"not a prime\")\n",
    "            break\n",
    "    else:\n",
    "        print(\" prime\")\n",
    "else:\n",
    "    print(\"negative number\")\n",
    "    \n",
    "\n",
    "    \n"
   ]
  },
  {
   "cell_type": "code",
   "execution_count": 45,
   "metadata": {},
   "outputs": [
    {
     "name": "stdout",
     "output_type": "stream",
     "text": [
      "enter a number1\n",
      "composite \n"
     ]
    }
   ],
   "source": [
    "n=(int(input(\"enter a number\")))\n",
    "factor_count=0\n",
    "if(n==1 ):\n",
    "    print(\"composite \")\n",
    "elif(n>0):\n",
    "    for i in range(2,n):\n",
    "        if(n%i==0):\n",
    "            factor_count+=1\n",
    "    if(factor_count==0):\n",
    "        print(\"prime\")\n",
    "    else:\n",
    "        print(\"not prime\")\n",
    "else:\n",
    "    print(\"negative number\")\n",
    "    \n",
    "\n",
    "    "
   ]
  },
  {
   "cell_type": "code",
   "execution_count": 50,
   "metadata": {},
   "outputs": [
    {
     "name": "stdout",
     "output_type": "stream",
     "text": [
      "enter a number6\n",
      "perfect number\n"
     ]
    }
   ],
   "source": [
    "# perfect_number\n",
    "\"\"\"perfect numbers means the numbers whose factors sumis equal to the number excluding that number\"\"\"\n",
    "n=(int(input(\"enter a number\")))\n",
    "factor=0\n",
    "if(n>0):\n",
    "    for i in range(1,n):\n",
    "        if(n%i==0):\n",
    "            factor=factor+i\n",
    "    if(factor==n):\n",
    "        print(\"perfect number\")\n",
    "    else:\n",
    "        print(\"not perfect number\")\n",
    "else:\n",
    "    print(\"negative number\")\n",
    "    \n"
   ]
  },
  {
   "cell_type": "code",
   "execution_count": 54,
   "metadata": {},
   "outputs": [
    {
     "name": "stdout",
     "output_type": "stream",
     "text": [
      "enter a number5\n",
      "factorial of a number  120\n"
     ]
    }
   ],
   "source": [
    "n=(int(input(\"enter a number\")))\n",
    "factor=0\n",
    "if(n%2==0):\n",
    "    print(\"even number\")\n",
    "    for i in range(1,n):\n",
    "        if(n%i==0):\n",
    "            factor=factor+i\n",
    "    if(factor==n):\n",
    "        print(\"perfect number\")\n",
    "    else:\n",
    "        print(\"not perfect number\")\n",
    "else:\n",
    "    print(\"odd numbers\")\n",
    "    import math\n",
    "    print(\"factorial of a number \",math.factorial(n))\n",
    "    \n",
    "\n",
    "    "
   ]
  },
  {
   "cell_type": "code",
   "execution_count": null,
   "metadata": {},
   "outputs": [],
   "source": [
    "n=input(\"enter a number\")\n",
    "factor=0\n",
    "if(int(n%2)==0):\n",
    "    for i in range(1,int(n)):\n",
    "        if(int(n%i)==0):\n",
    "            factor=factor+i\n",
    "    if(factor==n):\n",
    "        print(\"perfect number\")\n",
    "    else:\n",
    "        print(\"not perfect number\")\n",
    "else:\n",
    "    import math\n",
    "    print(\"factorial of a number \",math.factorial(n))\n",
    "    \n",
    "\n",
    "    "
   ]
  },
  {
   "cell_type": "code",
   "execution_count": 60,
   "metadata": {},
   "outputs": [
    {
     "name": "stdout",
     "output_type": "stream",
     "text": [
      "enter a number4\n",
      "4 * 1 = 4\n",
      "4 * 2 = 8\n",
      "4 * 3 = 12\n",
      "4 * 4 = 16\n",
      "4 * 5 = 20\n",
      "4 * 6 = 24\n",
      "4 * 7 = 28\n",
      "4 * 8 = 32\n",
      "4 * 9 = 36\n",
      "4 * 10 = 40\n"
     ]
    }
   ],
   "source": [
    "n=(int(input(\"enter a number\")))\n",
    "c=1\n",
    "for i in range(1,11):\n",
    "    c=n*i\n",
    "    print(n,\"*\",i,\"=\",c)\n",
    "    \n",
    "\n",
    "    "
   ]
  },
  {
   "cell_type": "code",
   "execution_count": 35,
   "metadata": {},
   "outputs": [
    {
     "name": "stdout",
     "output_type": "stream",
     "text": [
      "enter a number2\n",
      "1 * 1 = 1\n",
      "1 * 2 = 2\n",
      "1 * 3 = 3\n",
      "1 * 4 = 4\n",
      "1 * 5 = 5\n",
      "1 * 6 = 6\n",
      "1 * 7 = 7\n",
      "1 * 8 = 8\n",
      "1 * 9 = 9\n",
      "1 * 10 = 10\n",
      "2 * 1 = 2\n",
      "2 * 2 = 4\n",
      "2 * 3 = 6\n",
      "2 * 4 = 8\n",
      "2 * 5 = 10\n",
      "2 * 6 = 12\n",
      "2 * 7 = 14\n",
      "2 * 8 = 16\n",
      "2 * 9 = 18\n",
      "2 * 10 = 20\n"
     ]
    }
   ],
   "source": [
    "n=(int(input(\"enter a number\")))\n",
    "c=1\n",
    "for j in range(1,n+1):\n",
    "    \n",
    "    for i in range(1,11):\n",
    "        c=j*i\n",
    "        print(j,\"*\",i,\"=\",c)\n",
    "    "
   ]
  },
  {
   "cell_type": "markdown",
   "metadata": {},
   "source": [
    "## jump statements\n",
    "* break\n",
    "* continue "
   ]
  },
  {
   "cell_type": "code",
   "execution_count": 67,
   "metadata": {},
   "outputs": [
    {
     "name": "stdout",
     "output_type": "stream",
     "text": [
      "enter a number10\n",
      "1\n",
      "2\n",
      "3\n",
      "4\n",
      "5\n"
     ]
    }
   ],
   "source": [
    "\"\"\" BREAK :it will check the condition and end the loop their and the till that nnumbers including that number\"\"\"\n",
    "n=int(input(\"enter a number\"))\n",
    "for i in range(1,n+1):\n",
    "    print(i)\n",
    "    if(i==5):\n",
    "        break"
   ]
  },
  {
   "cell_type": "code",
   "execution_count": 74,
   "metadata": {},
   "outputs": [
    {
     "name": "stdout",
     "output_type": "stream",
     "text": [
      "enter a number10\n",
      "1\n",
      "2\n",
      "3\n",
      "4\n",
      "6\n",
      "7\n",
      "8\n",
      "9\n",
      "10\n"
     ]
    }
   ],
   "source": [
    "\"\"\"  in continue statement the number in the condition will be skipped \"\"\"\n",
    "n=int(input(\"enter a number\"))\n",
    "for i in range(1,n+1):\n",
    "    if(i==5):\n",
    "        continue\n",
    "    print(i)\n"
   ]
  },
  {
   "cell_type": "markdown",
   "metadata": {},
   "source": [
    "## in built functions\n",
    "* ord()\n",
    "* char()\n"
   ]
  },
  {
   "cell_type": "code",
   "execution_count": 1,
   "metadata": {},
   "outputs": [
    {
     "name": "stdout",
     "output_type": "stream",
     "text": [
      "enter a character6\n",
      "54\n"
     ]
    }
   ],
   "source": [
    "# ascii value of a character \n",
    "a=input(\"enter a character\")\n",
    "print(ord(a))"
   ]
  },
  {
   "cell_type": "code",
   "execution_count": 24,
   "metadata": {},
   "outputs": [
    {
     "name": "stdout",
     "output_type": "stream",
     "text": [
      "enter anumber194\n",
      "Â\n"
     ]
    }
   ],
   "source": [
    "#\n",
    "n=int(input(\"enter anumber\"))\n",
    "print(chr(n))\n"
   ]
  },
  {
   "cell_type": "code",
   "execution_count": 8,
   "metadata": {},
   "outputs": [
    {
     "name": "stdout",
     "output_type": "stream",
     "text": [
      "enter a characterwfuye\n",
      "119\n",
      "102\n",
      "117\n",
      "121\n",
      "101\n"
     ]
    }
   ],
   "source": [
    "a=input(\"enter a character\")\n",
    "for i in a:\n",
    "    print(ord(i))"
   ]
  },
  {
   "cell_type": "code",
   "execution_count": 12,
   "metadata": {},
   "outputs": [
    {
     "name": "stdout",
     "output_type": "stream",
     "text": [
      "enter a characterre8\n",
      "r\n",
      "8\n"
     ]
    }
   ],
   "source": [
    "a=input(\"enter a character\")\n",
    "for i in a:\n",
    "    if(ord(i)%2==0):\n",
    "        print(i)"
   ]
  },
  {
   "cell_type": "code",
   "execution_count": 27,
   "metadata": {},
   "outputs": [
    {
     "name": "stdout",
     "output_type": "stream",
     "text": [
      "enter a character56\n",
      "2809\n",
      "70\n",
      "F 6 "
     ]
    }
   ],
   "source": [
    "a=input(\"enter a character\")\n",
    "for i in a:\n",
    "    if(ord(i)%2==0):\n",
    "        print(i,end=\" \")\n",
    "    else:\n",
    "        b=(ord(i)*ord(i))\n",
    "        print(b)\n",
    "        s=b//40\n",
    "        print(s)\n",
    "        print(chr(s),end=\" \")\n",
    "        "
   ]
  },
  {
   "cell_type": "code",
   "execution_count": 32,
   "metadata": {},
   "outputs": [
    {
     "name": "stdout",
     "output_type": "stream",
     "text": [
      "21\n"
     ]
    }
   ],
   "source": [
    "### sum\n",
    "list1=[1,2,3,4,5,6]\n",
    "sum1=sum(list1)\n",
    "print(sum1)\n"
   ]
  },
  {
   "cell_type": "markdown",
   "metadata": {},
   "source": [
    "## functions\n",
    "* built_in functions\n",
    "* user_defined functions\n",
    "\n"
   ]
  },
  {
   "cell_type": "markdown",
   "metadata": {},
   "source": [
    "### built_in fuctions\n",
    "* max\n",
    "* min\n",
    "* abs\n",
    "* len\n",
    "\n"
   ]
  },
  {
   "cell_type": "markdown",
   "metadata": {},
   "source": [
    "#### function consists of three parts\n",
    "* function  declaration \n",
    "* body of the function\n",
    "* function calling"
   ]
  },
  {
   "cell_type": "code",
   "execution_count": 40,
   "metadata": {},
   "outputs": [
    {
     "name": "stdout",
     "output_type": "stream",
     "text": [
      "hi tulasi u r the one and only good frnd of mine\n"
     ]
    }
   ],
   "source": [
    "def sample():\n",
    "    print(\"hi tulasi u r the one and only good frnd of mine\")\n",
    "sample()"
   ]
  },
  {
   "cell_type": "code",
   "execution_count": 42,
   "metadata": {},
   "outputs": [
    {
     "name": "stdout",
     "output_type": "stream",
     "text": [
      "enter a message:have a good day\n",
      "have a good day\n"
     ]
    }
   ],
   "source": [
    "def sample():\n",
    "    name=input(\"enter a message:\")\n",
    "    print(name)\n",
    "sample()"
   ]
  },
  {
   "cell_type": "code",
   "execution_count": 44,
   "metadata": {},
   "outputs": [
    {
     "name": "stdout",
     "output_type": "stream",
     "text": [
      "odd numbers\n",
      "factorial of a number  120\n"
     ]
    }
   ],
   "source": [
    "\n",
    "factor=0\n",
    "def even(n):\n",
    "    if(n%2==0):\n",
    "        print(\"even number\")\n",
    "        for i in range(1,n):\n",
    "            if(n%i==0):\n",
    "                factor=factor+i\n",
    "            if(factor==n):\n",
    "                print(\"perfect number\")\n",
    "            else:\n",
    "                print(\"not perfect number\")\n",
    "    else:\n",
    "        print(\"odd numbers\")\n",
    "        import math\n",
    "        print(\"factorial of a number \",math.factorial(n))\n",
    "even(5)\n",
    "    \n"
   ]
  },
  {
   "cell_type": "markdown",
   "metadata": {},
   "source": [
    "### variables\n",
    "* in python static means local variable\n",
    "* dynamic means global variable"
   ]
  },
  {
   "cell_type": "markdown",
   "metadata": {},
   "source": [
    "### required variables"
   ]
  },
  {
   "cell_type": "code",
   "execution_count": 45,
   "metadata": {},
   "outputs": [
    {
     "name": "stdout",
     "output_type": "stream",
     "text": [
      "name is taluchuri\n",
      "org is  vignan\n"
     ]
    }
   ],
   "source": [
    "def required(name,org):\n",
    "    print(\"name is\",name)\n",
    "    print(\"org is \",org)\n",
    "required(\"taluchuri\",\"vignan\")"
   ]
  },
  {
   "cell_type": "markdown",
   "metadata": {},
   "source": [
    "### default variables"
   ]
  },
  {
   "cell_type": "code",
   "execution_count": 47,
   "metadata": {},
   "outputs": [
    {
     "name": "stdout",
     "output_type": "stream",
     "text": [
      "multiplication 150\n"
     ]
    }
   ],
   "source": [
    "def default(a,b,c=10):\n",
    "    print(\"multiplication\",a*b*c)\n",
    "default(5,3)"
   ]
  },
  {
   "cell_type": "code",
   "execution_count": null,
   "metadata": {},
   "outputs": [],
   "source": []
  }
 ],
 "metadata": {
  "kernelspec": {
   "display_name": "Python 3",
   "language": "python",
   "name": "python3"
  },
  "language_info": {
   "codemirror_mode": {
    "name": "ipython",
    "version": 3
   },
   "file_extension": ".py",
   "mimetype": "text/x-python",
   "name": "python",
   "nbconvert_exporter": "python",
   "pygments_lexer": "ipython3",
   "version": "3.8.5"
  }
 },
 "nbformat": 4,
 "nbformat_minor": 4
}
