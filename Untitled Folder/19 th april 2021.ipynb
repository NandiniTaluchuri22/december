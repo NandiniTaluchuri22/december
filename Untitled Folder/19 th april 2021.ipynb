{
 "cells": [
  {
   "cell_type": "code",
   "execution_count": 50,
   "metadata": {},
   "outputs": [
    {
     "name": "stdout",
     "output_type": "stream",
     "text": [
      "1\n",
      "3 ggnu  g\n",
      "3 ggnu g\n"
     ]
    }
   ],
   "source": [
    "a=int(input())\n",
    "for j in range(a):\n",
    "    s=input().split()\n",
    "    \n",
    "    print(' '.join(map(str, s)))"
   ]
  },
  {
   "cell_type": "code",
   "execution_count": 18,
   "metadata": {},
   "outputs": [
    {
     "name": "stdout",
     "output_type": "stream",
     "text": [
      "2\n",
      "aeiou\n",
      "lovely string\n",
      "taluchuri\n",
      "ugly string\n"
     ]
    }
   ],
   "source": [
    "\n",
    "    "
   ]
  },
  {
   "cell_type": "code",
   "execution_count": 3,
   "metadata": {},
   "outputs": [
    {
     "name": "stdout",
     "output_type": "stream",
     "text": [
      "1 2 3 4\n"
     ]
    }
   ],
   "source": [
    "# to convert list to string\n",
    "\"\"\"consider a list convert each element in the list to string using map\n",
    "map is used for applying same operation on multiple times\n",
    "and use JOIN() to join each elment in string\"\"\"\n",
    "l=[1,2,3,4]\n",
    "print(' '.join(map(str,l)))"
   ]
  },
  {
   "cell_type": "code",
   "execution_count": 13,
   "metadata": {},
   "outputs": [
    {
     "name": "stdout",
     "output_type": "stream",
     "text": [
      "nandu\n",
      "tulasi\n",
      "dimple\n"
     ]
    }
   ],
   "source": [
    "def var(*args):\n",
    "    for a in args:\n",
    "        print(a)\n",
    "var(\"nandu\",\"tulasi\",\"dimple\")"
   ]
  },
  {
   "cell_type": "markdown",
   "metadata": {},
   "source": [
    "### sets\n",
    "* represented by{}\n",
    "* it doesnot contain duplicate\n",
    "* it cannot be called using indices\n"
   ]
  },
  {
   "cell_type": "code",
   "execution_count": 19,
   "metadata": {},
   "outputs": [
    {
     "name": "stdout",
     "output_type": "stream",
     "text": [
      "{1, 2, 3, 4, 11}\n"
     ]
    }
   ],
   "source": [
    "k={1,11,2,3,4,3,11}\n",
    "print(k)# it will not print the duplicate elments"
   ]
  },
  {
   "cell_type": "markdown",
   "metadata": {},
   "source": [
    "### the elements in the set can be acessed using membership operator or through for loop\n"
   ]
  },
  {
   "cell_type": "markdown",
   "metadata": {},
   "source": [
    " ### *methods in set\n",
    " * **add(it considers only single element )**\n",
    " * **update(more than  onr element)\n",
    " * **pop()**-->removes the least element in the set\n",
    " * **remove(elment to be removed )\n",
    " * **difference()-->variable=set1.difference(set2)\n",
    " * **differece_update()-->set1.difference(set2)# here the difference will be updated to the set1\n",
    " * **symmetric_difference()-->symmetric_difference :(a union b)-(a intersection b) "
   ]
  },
  {
   "cell_type": "code",
   "execution_count": 21,
   "metadata": {},
   "outputs": [
    {
     "name": "stdout",
     "output_type": "stream",
     "text": [
      "{1, 2, 3, 4, 5, 11}\n"
     ]
    }
   ],
   "source": [
    "k={1,11,2,3,4,3,11}\n",
    "k.add(5)\n",
    "print(k)"
   ]
  },
  {
   "cell_type": "code",
   "execution_count": 22,
   "metadata": {},
   "outputs": [
    {
     "name": "stdout",
     "output_type": "stream",
     "text": [
      "{1, 2, 3, 4, 11, 'a', 'e', 's', 'm'}\n"
     ]
    }
   ],
   "source": [
    "k={1,11,2,3,4,3,11}\n",
    "k.update(\"sam\",'e')\n",
    "print(k)"
   ]
  },
  {
   "cell_type": "code",
   "execution_count": 27,
   "metadata": {},
   "outputs": [
    {
     "name": "stdout",
     "output_type": "stream",
     "text": [
      "{4, 11}\n"
     ]
    }
   ],
   "source": [
    "k={1,11,2,3,4,3,11}\n",
    "k.pop()\n",
    "k.pop()\n",
    "k.pop()\n",
    "print(k)"
   ]
  },
  {
   "cell_type": "code",
   "execution_count": 24,
   "metadata": {},
   "outputs": [
    {
     "name": "stdout",
     "output_type": "stream",
     "text": [
      "{1, 2, 4, 11}\n"
     ]
    }
   ],
   "source": [
    "k={1,11,2,3,4,3,11}\n",
    "k.remove(3)\n",
    "print(k)"
   ]
  },
  {
   "cell_type": "code",
   "execution_count": 31,
   "metadata": {},
   "outputs": [
    {
     "name": "stdout",
     "output_type": "stream",
     "text": [
      "{1, 2}\n",
      "{1, 2}\n"
     ]
    }
   ],
   "source": [
    "k={1,2,3,4}\n",
    "m={3,4,5,6}\n",
    "a=k.difference(m)\n",
    "k.difference_update(m)\n",
    "print(k)\n",
    "print(a)"
   ]
  },
  {
   "cell_type": "code",
   "execution_count": 32,
   "metadata": {},
   "outputs": [
    {
     "name": "stdout",
     "output_type": "stream",
     "text": [
      "{3, 4}\n",
      "{3, 4}\n"
     ]
    }
   ],
   "source": [
    "k={1,2,3,4}\n",
    "m={3,4,5,6}\n",
    "a=k.intersection(m)\n",
    "k.intersection_update(m)\n",
    "print(k)k={1,2,3,4}\n"
   ]
  },
  {
   "cell_type": "code",
   "execution_count": 33,
   "metadata": {},
   "outputs": [
    {
     "name": "stdout",
     "output_type": "stream",
     "text": [
      "{1, 2, 5, 6}\n",
      "{1, 2, 5, 6}\n"
     ]
    }
   ],
   "source": [
    "k={1,2,3,4}\n",
    "m={3,4,5,6}\n",
    "a=k.symmetric_difference(m)\n",
    "k.symmetric_difference_update(m)\n",
    "print(k)\n",
    "print(a)"
   ]
  },
  {
   "cell_type": "code",
   "execution_count": 34,
   "metadata": {},
   "outputs": [
    {
     "name": "stdout",
     "output_type": "stream",
     "text": [
      "['__and__', '__class__', '__contains__', '__delattr__', '__dir__', '__doc__', '__eq__', '__format__', '__ge__', '__getattribute__', '__gt__', '__hash__', '__iand__', '__init__', '__init_subclass__', '__ior__', '__isub__', '__iter__', '__ixor__', '__le__', '__len__', '__lt__', '__ne__', '__new__', '__or__', '__rand__', '__reduce__', '__reduce_ex__', '__repr__', '__ror__', '__rsub__', '__rxor__', '__setattr__', '__sizeof__', '__str__', '__sub__', '__subclasshook__', '__xor__', 'add', 'clear', 'copy', 'difference', 'difference_update', 'discard', 'intersection', 'intersection_update', 'isdisjoint', 'issubset', 'issuperset', 'pop', 'remove', 'symmetric_difference', 'symmetric_difference_update', 'union', 'update']\n"
     ]
    }
   ],
   "source": [
    "print(dir(set()))"
   ]
  },
  {
   "cell_type": "code",
   "execution_count": 35,
   "metadata": {},
   "outputs": [
    {
     "name": "stdout",
     "output_type": "stream",
     "text": [
      "{1, 2}\n",
      "{1, 2}\n"
     ]
    }
   ],
   "source": [
    "k={1,2,3,4}\n",
    "m={3,4,5,6}\n",
    "a=k.difference(m)\n",
    "k.difference_update(m)\n",
    "print(k)\n",
    "print(a)"
   ]
  },
  {
   "cell_type": "code",
   "execution_count": 41,
   "metadata": {},
   "outputs": [
    {
     "name": "stdout",
     "output_type": "stream",
     "text": [
      "3\n",
      "\n",
      "* \n",
      "* * \n",
      "* * * "
     ]
    }
   ],
   "source": [
    "n=int(input())\n",
    "for i in range(n):\n",
    "    print()\n",
    "    for j in range(i+1):\n",
    "        print(\"*\",end=\" \")\n",
    "        "
   ]
  },
  {
   "cell_type": "code",
   "execution_count": 47,
   "metadata": {},
   "outputs": [
    {
     "name": "stdout",
     "output_type": "stream",
     "text": [
      "1 7 9\n",
      "9\n"
     ]
    }
   ],
   "source": [
    "a,b,c=map(int,input().split())\n",
    "d=max(a,b,c)\n",
    "print(d)"
   ]
  },
  {
   "cell_type": "code",
   "execution_count": 48,
   "metadata": {},
   "outputs": [
    {
     "ename": "SyntaxError",
     "evalue": "invalid syntax (<ipython-input-48-9128a21b254e>, line 3)",
     "output_type": "error",
     "traceback": [
      "\u001b[1;36m  File \u001b[1;32m\"<ipython-input-48-9128a21b254e>\"\u001b[1;36m, line \u001b[1;32m3\u001b[0m\n\u001b[1;33m    max1=max1>b?max1:b\u001b[0m\n\u001b[1;37m               ^\u001b[0m\n\u001b[1;31mSyntaxError\u001b[0m\u001b[1;31m:\u001b[0m invalid syntax\n"
     ]
    }
   ],
   "source": [
    "a,b,c=map(int,input()).split()\n",
    "max1=a\n",
    "max1=max1>b?max1:b\n",
    "max1=max1>c?max1:c\n",
    "print(max1)"
   ]
  },
  {
   "cell_type": "code",
   "execution_count": 49,
   "metadata": {},
   "outputs": [
    {
     "name": "stdout",
     "output_type": "stream",
     "text": [
      "3\n",
      "1 2 3 4\n",
      "5 6 7 8\n",
      "5gu vh ghks\n"
     ]
    }
   ],
   "source": [
    "a=int(input())\n",
    "l=\n",
    "for i in range(a):\n",
    "    s=input().split()"
   ]
  },
  {
   "cell_type": "code",
   "execution_count": null,
   "metadata": {},
   "outputs": [],
   "source": []
  }
 ],
 "metadata": {
  "kernelspec": {
   "display_name": "Python 3",
   "language": "python",
   "name": "python3"
  },
  "language_info": {
   "codemirror_mode": {
    "name": "ipython",
    "version": 3
   },
   "file_extension": ".py",
   "mimetype": "text/x-python",
   "name": "python",
   "nbconvert_exporter": "python",
   "pygments_lexer": "ipython3",
   "version": "3.8.5"
  }
 },
 "nbformat": 4,
 "nbformat_minor": 4
}
