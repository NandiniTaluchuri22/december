{
 "cells": [
  {
   "cell_type": "markdown",
   "metadata": {},
   "source": [
    "### packages and modules\n",
    "* **packages**\n",
    "* user defined packages\n",
    "  -defined for purpose\n",
    " "
   ]
  },
  {
   "cell_type": "code",
   "execution_count": null,
   "metadata": {},
   "outputs": [],
   "source": [
    "import math\n",
    "print(dir(math))"
   ]
  },
  {
   "cell_type": "code",
   "execution_count": null,
   "metadata": {},
   "outputs": [],
   "source": [
    "print(dir(list))"
   ]
  },
  {
   "cell_type": "markdown",
   "metadata": {},
   "source": [
    "* built-in-function in math module\n",
    "import "
   ]
  },
  {
   "cell_type": "code",
   "execution_count": null,
   "metadata": {},
   "outputs": [],
   "source": [
    "import math\n",
    "print(math.factorial(5))\n",
    "print(int(math.pow(2,5)))\n",
    "print(math.sqrt(5))\n",
    "print(math.log(2))\n",
    "print(math.gcd(5,3))"
   ]
  },
  {
   "cell_type": "code",
   "execution_count": null,
   "metadata": {},
   "outputs": [],
   "source": [
    "import random\n",
    "print(dir(random))"
   ]
  },
  {
   "cell_type": "code",
   "execution_count": null,
   "metadata": {},
   "outputs": [],
   "source": [
    "import random\n",
    "l=[1,2,3,4]\n",
    "a=input()\n",
    "print(random.randint(1000,5000))\n",
    "print(random.choice(a))\n",
    "random.shuffle(l)\n",
    "print(l)\n"
   ]
  },
  {
   "cell_type": "code",
   "execution_count": null,
   "metadata": {},
   "outputs": [],
   "source": [
    "import calendar\n",
    "print(dir(calendar))"
   ]
  },
  {
   "cell_type": "code",
   "execution_count": null,
   "metadata": {},
   "outputs": [],
   "source": [
    "import calendar\n",
    "print(calendar.isleap(2020))"
   ]
  },
  {
   "cell_type": "code",
   "execution_count": null,
   "metadata": {},
   "outputs": [],
   "source": [
    "print(calendar.leapdays(2000,2021))"
   ]
  },
  {
   "cell_type": "markdown",
   "metadata": {},
   "source": [
    "### package can be created\n",
    "* 1.go to desktop \n",
    "* 2.create new folder\n",
    "* 3.if u want to rename u can raname\n",
    "### creation of modules in packages\n",
    " * 1.go to the package folder\n",
    "* 2.click new and next click text file\n",
    "* 3.if u want to rename it can be done but it should be done only with name.py extension\n",
    "* to import it\n",
    "* from untitled _folder.filename import function_name"
   ]
  },
  {
   "cell_type": "code",
   "execution_count": null,
   "metadata": {},
   "outputs": [],
   "source": [
    "l=[1,2,3,1,2,3]\n",
    "m=[]\n",
    "for i in l:\n",
    "    if(i not in m):\n",
    "        m.append(i)\n",
    "print(m)\n"
   ]
  },
  {
   "cell_type": "code",
   "execution_count": null,
   "metadata": {},
   "outputs": [],
   "source": [
    "# unique elements\n",
    "l=[1,2,3,1,1,3,4]\n",
    "m=[]\n",
    "for i in l:\n",
    "    if(l.count(i)==1):\n",
    "        m.append(i)\n",
    "print(m)"
   ]
  },
  {
   "cell_type": "code",
   "execution_count": null,
   "metadata": {},
   "outputs": [],
   "source": [
    "#from untitled _folder.filename import function_name\n",
    "from package.module import duplicate\n",
    "duplicate([1,2,3,4,1,1,4])"
   ]
  },
  {
   "cell_type": "markdown",
   "metadata": {},
   "source": [
    "from package.module import unique\n",
    "unique([1,2,3,4,5,6,3,4,4])"
   ]
  },
  {
   "cell_type": "code",
   "execution_count": null,
   "metadata": {},
   "outputs": [],
   "source": [
    "from package.module import unique \n",
    "unique([1,2,3,4,5,6,3,4,4])"
   ]
  },
  {
   "cell_type": "markdown",
   "metadata": {},
   "source": [
    "### regular expression\n",
    "* built in package in python\n",
    "* used to match specific patterns\n",
    "* fuctions\n",
    "## match\n",
    "* matches specific pattern\n",
    "### search(** character to be searched **,** string ** )\n",
    "* returns a first occurence character in complete  string\n",
    "### findall(** character **,** string ** )\n",
    "* returns the all occurence letters in the form of string"
   ]
  },
  {
   "cell_type": "code",
   "execution_count": null,
   "metadata": {},
   "outputs": [],
   "source": [
    "import re\n",
    "print(re.search('p',\"poython\"))\n",
    "print(re.search('k',\"poython\"))\n",
    "print(re.findall('o',\"poython\"))"
   ]
  },
  {
   "cell_type": "markdown",
   "metadata": {},
   "source": [
    "* ^ -- matches starting char\n",
    "* $ -- matches end char\n",
    "* [0-9]-numbers\n",
    "* [a-z]-lower letters\n",
    "* [A-Z]-CAPITAL LETTERS\n",
    "* .--matches any character\n",
    "* [@]--matches special character\n",
    "* [0-9]-accepts only 4 digits\n"
   ]
  },
  {
   "cell_type": "code",
   "execution_count": null,
   "metadata": {},
   "outputs": [],
   "source": [
    "import re\n",
    "k=\"my 2  favourite numbers are 25,45\"\n",
    "print(re.findall('[0-9]+',k))\n"
   ]
  },
  {
   "cell_type": "code",
   "execution_count": null,
   "metadata": {},
   "outputs": [],
   "source": [
    "a,b=int(input()),int(input())\n",
    "if(a<=23 and b>=500 and b<=100):\n",
    "    print(\"Take Medicine\")\n",
    "else:\n",
    "    print(\"Don't take Medicine\")\n",
    "\n"
   ]
  },
  {
   "cell_type": "code",
   "execution_count": null,
   "metadata": {},
   "outputs": [],
   "source": [
    "a,b=int(input()),int(input())\n",
    "if(a<=23 and b>=500 and b<=1000):\n",
    "        print(\"Take Medicine\")\n",
    "else:\n",
    "    print(\"Don't take Medicine\")"
   ]
  },
  {
   "cell_type": "code",
   "execution_count": null,
   "metadata": {},
   "outputs": [],
   "source": [
    "\n",
    "a,b=input().split()\n",
    "\n",
    "print(a,b)"
   ]
  },
  {
   "cell_type": "code",
   "execution_count": null,
   "metadata": {},
   "outputs": [],
   "source": [
    "import re\n",
    "n=input(\"enter phone numbeer\")\n",
    "if(re.match('^[+][9][1][6-9][0-9]{9}$',n)):\n",
    "    print(\"val;id\")\n",
    "else:\n",
    "    print(\"invalid\")"
   ]
  },
  {
   "cell_type": "code",
   "execution_count": 1,
   "metadata": {},
   "outputs": [
    {
     "name": "stdout",
     "output_type": "stream",
     "text": [
      "my name is taluchuri\n"
     ]
    }
   ],
   "source": [
    "f=open('data files/demo.txt')\n",
    "fh=f.read()\n",
    "print(fh)"
   ]
  },
  {
   "cell_type": "code",
   "execution_count": 6,
   "metadata": {},
   "outputs": [
    {
     "name": "stdout",
     "output_type": "stream",
     "text": [
      "11\n"
     ]
    }
   ],
   "source": [
    "with open('data files/demo1.txt','w') as info:\n",
    "    f=info.write(\"hello world\")\n",
    "    print(f)"
   ]
  },
  {
   "cell_type": "code",
   "execution_count": 8,
   "metadata": {},
   "outputs": [
    {
     "name": "stdout",
     "output_type": "stream",
     "text": [
      "4\n"
     ]
    },
    {
     "ename": "NameError",
     "evalue": "name 'a' is not defined",
     "output_type": "error",
     "traceback": [
      "\u001b[1;31m---------------------------------------------------------------------------\u001b[0m",
      "\u001b[1;31mNameError\u001b[0m                                 Traceback (most recent call last)",
      "\u001b[1;32m<ipython-input-8-47a096296f46>\u001b[0m in \u001b[0;36m<module>\u001b[1;34m\u001b[0m\n\u001b[0;32m      3\u001b[0m \u001b[0mm\u001b[0m\u001b[1;33m=\u001b[0m\u001b[1;33m[\u001b[0m\u001b[1;34m'A'\u001b[0m\u001b[1;33m,\u001b[0m\u001b[1;34m'E'\u001b[0m\u001b[1;33m,\u001b[0m\u001b[1;34m'I'\u001b[0m\u001b[1;33m,\u001b[0m\u001b[1;34m'O'\u001b[0m\u001b[1;33m,\u001b[0m\u001b[1;34m'U'\u001b[0m\u001b[1;33m]\u001b[0m\u001b[1;33m\u001b[0m\u001b[1;33m\u001b[0m\u001b[0m\n\u001b[0;32m      4\u001b[0m \u001b[1;32mfor\u001b[0m \u001b[0mi\u001b[0m \u001b[1;32min\u001b[0m \u001b[0mrange\u001b[0m\u001b[1;33m(\u001b[0m\u001b[0mb\u001b[0m\u001b[1;33m)\u001b[0m\u001b[1;33m:\u001b[0m\u001b[1;33m\u001b[0m\u001b[1;33m\u001b[0m\u001b[0m\n\u001b[1;32m----> 5\u001b[1;33m     \u001b[1;32mfor\u001b[0m \u001b[0mi\u001b[0m \u001b[1;32min\u001b[0m \u001b[0ma\u001b[0m\u001b[1;33m:\u001b[0m\u001b[1;33m\u001b[0m\u001b[1;33m\u001b[0m\u001b[0m\n\u001b[0m\u001b[0;32m      6\u001b[0m         \u001b[1;32mif\u001b[0m\u001b[1;33m(\u001b[0m\u001b[1;33m(\u001b[0m\u001b[0ma\u001b[0m\u001b[1;33m[\u001b[0m\u001b[1;36m0\u001b[0m\u001b[1;33m]\u001b[0m\u001b[1;32mand\u001b[0m \u001b[0ma\u001b[0m\u001b[1;33m[\u001b[0m\u001b[0mi\u001b[0m\u001b[1;33m]\u001b[0m\u001b[1;33m)\u001b[0m \u001b[1;32min\u001b[0m \u001b[0ml\u001b[0m\u001b[1;33m)\u001b[0m\u001b[1;33m:\u001b[0m\u001b[1;33m\u001b[0m\u001b[1;33m\u001b[0m\u001b[0m\n\u001b[0;32m      7\u001b[0m             \u001b[0mprint\u001b[0m\u001b[1;33m(\u001b[0m\u001b[1;34m\"lovely string\"\u001b[0m\u001b[1;33m)\u001b[0m\u001b[1;33m\u001b[0m\u001b[1;33m\u001b[0m\u001b[0m\n",
      "\u001b[1;31mNameError\u001b[0m: name 'a' is not defined"
     ]
    }
   ],
   "source": [
    "import random\n",
    "b=int(input())\n",
    "l=['a','e','i','o','u']\n",
    "m=['A','E','I','O','U']\n",
    "for i in range(b):\n",
    "    \n",
    "    for i in a:\n",
    "        if((a[0]and a[i]) in l):\n",
    "            print(\"lovely string\")\n",
    "        else:\n",
    "            print(\"ugly string\")"
   ]
  },
  {
   "cell_type": "code",
   "execution_count": null,
   "metadata": {},
   "outputs": [
    {
     "name": "stdout",
     "output_type": "stream",
     "text": [
      "3\n",
      "omahgoTuRuLob\n",
      "ugly string\n",
      "\n"
     ]
    }
   ],
   "source": [
    "'''\n",
    "# Sample code to perform I/O:\n",
    "\n",
    "name = input()                  # Reading input from STDIN\n",
    "print('Hi, %s.' % name)         # Writing output to STDOUT\n",
    "\n",
    "# Warning: Printing unwanted or ill-formatted data to output will cause the test cases to fail\n",
    "'''\n",
    "\n",
    "# Write your code here\n",
    "b=int(input())\n",
    "l=['a','e','i','o','u','A','E','I','O','U']\n",
    "l1=[0,0,0,0,0,0,0,0,0,0]\n",
    "for i in range(b):\n",
    "   s=input()\n",
    "   cnt=0\n",
    "   for i in range(len(s)):\n",
    "      for j in range(len(l)):\n",
    "         if (s[i]==l[j]):\n",
    "            l1[j]=l1[j]+1\n",
    "   for i in range(5):\n",
    "      if(l1[i]+l1[i+5]>=1):\n",
    "         cnt+=1\n",
    "   if(cnt==5):\n",
    "      print(\"lovely string\")\n",
    "   else:\n",
    "      print(\"ugly string\")\n",
    "   print()\n",
    "    \n",
    "    "
   ]
  },
  {
   "cell_type": "code",
   "execution_count": 2,
   "metadata": {},
   "outputs": [
    {
     "name": "stdout",
     "output_type": "stream",
     "text": [
      "[1, 0, 0]\n"
     ]
    }
   ],
   "source": [
    "l1=[0,0,0]\n",
    "l1[0]=l1[0]+1\n",
    "print(l1)"
   ]
  },
  {
   "cell_type": "markdown",
   "metadata": {},
   "source": [
    "#### object oriented programming\n",
    "* class\n",
    "     -collection of variable and methods\n",
    "     -synatax\n",
    "       -class classname:\n",
    "           ''' documentation'''\n",
    "           variables\n",
    "           methods\n",
    "           -rules\n",
    "             -should be capital\n",
    "             -doesn't contain any whitespace\n",
    "             -it doesn't start with special chracter"
   ]
  },
  {
   "cell_type": "code",
   "execution_count": 11,
   "metadata": {},
   "outputs": [
    {
     "name": "stdout",
     "output_type": "stream",
     "text": [
      "10\n",
      "hello world\n",
      "basic documentation\n"
     ]
    }
   ],
   "source": [
    "class Num:\n",
    "    '''basic documentation'''\n",
    "    a=10\n",
    "    def example():\n",
    "        return 'hello world'\n",
    "print(Num.a)\n",
    "print(Num.example())\n",
    "print(Num.__doc__)"
   ]
  },
  {
   "cell_type": "code",
   "execution_count": 4,
   "metadata": {},
   "outputs": [
    {
     "name": "stdout",
     "output_type": "stream",
     "text": [
      "24\n"
     ]
    }
   ],
   "source": [
    "class Factorial:\n",
    "    def fact(self,n):\n",
    "        fact1=1\n",
    "        for i in range(1,n+1):\n",
    "            fact1=fact1*i\n",
    "        print(fact1)\n",
    "a=Factorial()\n",
    "a.fact(4)"
   ]
  },
  {
   "cell_type": "code",
   "execution_count": 2,
   "metadata": {},
   "outputs": [
    {
     "data": {
      "text/plain": [
       "120"
      ]
     },
     "execution_count": 2,
     "metadata": {},
     "output_type": "execute_result"
    }
   ],
   "source": [
    " def fact(n):\n",
    "        fact1=1\n",
    "        for i in range(1,n+1):\n",
    "            fact1=fact1*i\n",
    "        return fact1\n",
    "fact(5)"
   ]
  },
  {
   "cell_type": "code",
   "execution_count": 5,
   "metadata": {},
   "outputs": [
    {
     "name": "stdout",
     "output_type": "stream",
     "text": [
      "prime\n"
     ]
    }
   ],
   "source": [
    "class prime:\n",
    "    def num(self,n):\n",
    "        count=0\n",
    "        for i in range(2,n):\n",
    "            if(n%i==0):\n",
    "                count=count+1\n",
    "        if(n==1):\n",
    "            print(\"composite\")\n",
    "        elif(count==0):\n",
    "            print(\"prime\")\n",
    "        else:\n",
    "            print(\"not prime\")\n",
    "p=prime()\n",
    "p.num(23)"
   ]
  },
  {
   "cell_type": "code",
   "execution_count": null,
   "metadata": {},
   "outputs": [],
   "source": [
    "class perfect:\n",
    "    def num(self,n):\n",
    "        count=0\n",
    "        for i in range(2,n):\n",
    "            if(n%i==0):\n",
    "                count=count+1\n",
    "        if(n==1):\n",
    "            print(\"composite\")\n",
    "        elif(count==0):\n",
    "            print(\"prime\")\n",
    "        else:\n",
    "            print(\"not prime\")\n",
    "p=prime()"
   ]
  },
  {
   "cell_type": "code",
   "execution_count": null,
   "metadata": {},
   "outputs": [],
   "source": []
  },
  {
   "cell_type": "code",
   "execution_count": null,
   "metadata": {},
   "outputs": [],
   "source": []
  },
  {
   "cell_type": "code",
   "execution_count": null,
   "metadata": {},
   "outputs": [],
   "source": []
  }
 ],
 "metadata": {
  "kernelspec": {
   "display_name": "Python 3",
   "language": "python",
   "name": "python3"
  },
  "language_info": {
   "codemirror_mode": {
    "name": "ipython",
    "version": 3
   },
   "file_extension": ".py",
   "mimetype": "text/x-python",
   "name": "python",
   "nbconvert_exporter": "python",
   "pygments_lexer": "ipython3",
   "version": "3.8.5"
  }
 },
 "nbformat": 4,
 "nbformat_minor": 4
}
